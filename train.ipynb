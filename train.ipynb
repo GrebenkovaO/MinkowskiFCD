{
 "cells": [
  {
   "cell_type": "code",
   "execution_count": null,
   "id": "cc00629e-ea7b-4276-89d7-7e704a1dd9f6",
   "metadata": {},
   "outputs": [
    {
     "name": "stdout",
     "output_type": "stream",
     "text": [
      "COMET INFO: Experiment is live on comet.ml https://www.comet.ml/grebenkovao/fcd-minkowski/aec8779c998a49f6b61f63cddbb27be6\n",
      "\n",
      "/usr/local/lib/python3.6/dist-packages/MinkowskiEngine-0.5.4-py3.6-linux-x86_64.egg/MinkowskiEngine/__init__.py:42: UserWarning: The environment variable `OMP_NUM_THREADS` not set. MinkowskiEngine will automatically set `OMP_NUM_THREADS=16`. If you want to set `OMP_NUM_THREADS` manually, please export it on the command line before running a python script. e.g. `export OMP_NUM_THREADS=12; python your_program.py`. It is recommended to set it below 24.\n",
      "  \"It is recommended to set it below 24.\",\n",
      "{'t1_brains': ['/workspace/PointCloudResNet/data/t1_brains/2.nii.gz', '/workspace/PointCloudResNet/data/t1_brains/3.nii.gz', '/workspace/PointCloudResNet/data/t1_brains/23.nii.gz', '/workspace/PointCloudResNet/data/t1_brains/24.nii.gz', '/workspace/PointCloudResNet/data/t1_brains/30.nii.gz', '/workspace/PointCloudResNet/data/t1_brains/31.nii.gz', '/workspace/PointCloudResNet/data/t1_brains/33.nii.gz', '/workspace/PointCloudResNet/data/t1_brains/34.nii.gz', '/workspace/PointCloudResNet/data/t1_brains/38.nii.gz', '/workspace/PointCloudResNet/data/t1_brains/43.nii.gz', '/workspace/PointCloudResNet/data/t1_brains/44.nii.gz', '/workspace/PointCloudResNet/data/t1_brains/46.nii.gz', '/workspace/PointCloudResNet/data/t1_brains/82.nii.gz'], 'labels': ['/workspace/PointCloudResNet/data/labels/2.nii.gz', '/workspace/PointCloudResNet/data/labels/3.nii.gz', '/workspace/PointCloudResNet/data/labels/23.nii.gz', '/workspace/PointCloudResNet/data/labels/24.nii.gz', '/workspace/PointCloudResNet/data/labels/30.nii.gz', '/workspace/PointCloudResNet/data/labels/31.nii.gz', '/workspace/PointCloudResNet/data/labels/33.nii.gz', '/workspace/PointCloudResNet/data/labels/34.nii.gz', '/workspace/PointCloudResNet/data/labels/38.nii.gz', '/workspace/PointCloudResNet/data/labels/43.nii.gz', '/workspace/PointCloudResNet/data/labels/44.nii.gz', '/workspace/PointCloudResNet/data/labels/46.nii.gz', '/workspace/PointCloudResNet/data/labels/82.nii.gz']}\n",
      "MEAN [293.17411859]\n",
      "STD [84.75730946]\n",
      "Weights are [0.0016528, 0.9983472]\n"
     ]
    }
   ],
   "source": [
    "!python3 \"lib/train.py\" --batch_size 1 --device cuda:0 --max_epochs 400 --lr 0.01"
   ]
  },
  {
   "cell_type": "code",
   "execution_count": null,
   "id": "57d234c7-b437-4c01-aa6f-3698d0f84a46",
   "metadata": {},
   "outputs": [],
   "source": [
    "!nvidia-smi "
   ]
  },
  {
   "cell_type": "code",
   "execution_count": 33,
   "id": "57d09d02-89cc-46a5-b69f-484792bf1559",
   "metadata": {},
   "outputs": [],
   "source": [
    "!ls"
   ]
  },
  {
   "cell_type": "code",
   "execution_count": 2,
   "id": "6fe549aa-a9f7-4ff9-af7b-77b523027fa2",
   "metadata": {},
   "outputs": [
    {
     "name": "stdout",
     "output_type": "stream",
     "text": [
      "\u001b[33mWARNING: Skipping MinkowskiEngine as it is not installed.\u001b[0m\n",
      "\u001b[33mWARNING: Running pip as root will break packages and permissions. You should install packages reliably by using venv: https://pip.pypa.io/warnings/venv\u001b[0m\n",
      "--------------------------------\n",
      "| CUDA compilation set         |\n",
      "--------------------------------\n",
      "Traceback (most recent call last):\n",
      "  File \"setup.py\", line 211, in <module>\n",
      "    \\nfor more information, please visit https://github.com/NVIDIA/MinkowskiEngine/wiki/Installation'\n",
      "ImportError:  \n",
      "BLAS not found from numpy.distutils.system_info.get_info. \n",
      "Please specify BLAS with: python setup.py install --blas=openblas\" \n",
      "for more information, please visit https://github.com/NVIDIA/MinkowskiEngine/wiki/Installation\n"
     ]
    }
   ],
   "source": [
    "!cd /code/Min/Minkowski/\n",
    "!cd /code/Min/Minkowski|python3 setup.py install"
   ]
  },
  {
   "cell_type": "code",
   "execution_count": 3,
   "id": "5785b8c7-b6b5-412d-b454-0e64af0deee1",
   "metadata": {},
   "outputs": [
    {
     "name": "stdout",
     "output_type": "stream",
     "text": [
      "1.ply\t\tdatasets       ops\t    saved_models  utils\n",
      "Minkowski\tinterpolation  predictions  setup.py\t  visualizations\n",
      "Untitled.ipynb\tlib\t       radiologist  train.ipynb\n"
     ]
    }
   ],
   "source": [
    "!ls"
   ]
  },
  {
   "cell_type": "code",
   "execution_count": null,
   "id": "1c8da241-f582-48f4-8007-7efab56e8303",
   "metadata": {},
   "outputs": [],
   "source": [
    "# after container restart you should execute the following commands in terninal:\n",
    "!apt install build-essential python3-dev libopenblas-dev\n",
    "! python3 -m pip install torch numpy ninja\n",
    "\n",
    "!cd /code/Min/Minkowski|python3 setup.py install\n",
    "\n",
    "!\n",
    "!/usr/bin/python3 -m pip install --upgrade pip\n",
    "!pip install open3d\n",
    "# Added by Olya\n",
    "! apt-get update \n",
    "! apt-get install ffmpeg libsm6 libxext6  -y ## bash script"
   ]
  },
  {
   "cell_type": "code",
   "execution_count": 12,
   "id": "c354f1fa-4909-4871-be46-7f746f5c9bad",
   "metadata": {},
   "outputs": [
    {
     "name": "stdout",
     "output_type": "stream",
     "text": [
      "Hit:1 http://archive.ubuntu.com/ubuntu bionic InRelease\n",
      "Hit:2 http://archive.ubuntu.com/ubuntu bionic-updates InRelease                \n",
      "Hit:3 http://archive.ubuntu.com/ubuntu bionic-backports InRelease              \n",
      "Hit:4 http://security.ubuntu.com/ubuntu bionic-security InRelease       \n",
      "Ign:5 https://developer.download.nvidia.com/compute/cuda/repos/ubuntu1804/x86_64  InRelease\n",
      "Ign:6 https://developer.download.nvidia.com/compute/machine-learning/repos/ubuntu1804/x86_64  InRelease\n",
      "Hit:7 https://developer.download.nvidia.com/compute/cuda/repos/ubuntu1804/x86_64  Release\n",
      "Hit:8 https://developer.download.nvidia.com/compute/machine-learning/repos/ubuntu1804/x86_64  Release\n",
      "Reading package lists... Done\n",
      "Reading package lists... Done\n",
      "Building dependency tree       \n",
      "Reading state information... Done\n",
      "libsm6 is already the newest version (2:1.2.2-1).\n",
      "libxext6 is already the newest version (2:1.3.3-1).\n",
      "ffmpeg is already the newest version (7:3.4.8-0ubuntu0.2).\n",
      "0 upgraded, 0 newly installed, 0 to remove and 44 not upgraded.\n"
     ]
    }
   ],
   "source": [
    "! apt-get update ##[edited]\n",
    "! apt-get install ffmpeg libsm6 libxext6  -y"
   ]
  },
  {
   "cell_type": "code",
   "execution_count": 23,
   "id": "4cbc6067-13e8-4668-8c61-cb72cfb53118",
   "metadata": {},
   "outputs": [
    {
     "name": "stdout",
     "output_type": "stream",
     "text": [
      "/bin/sh: 1: cd: can't cd to Minkowski\n"
     ]
    }
   ],
   "source": [
    "!cd \\Minkowski | ls\n"
   ]
  },
  {
   "cell_type": "code",
   "execution_count": 12,
   "id": "82c8e990-a64c-42e4-8dde-ce8f1878eaca",
   "metadata": {},
   "outputs": [
    {
     "name": "stdout",
     "output_type": "stream",
     "text": [
      "Tue Nov 23 14:28:05 2021       \n",
      "+-----------------------------------------------------------------------------+\n",
      "| NVIDIA-SMI 440.64       Driver Version: 440.64       CUDA Version: 10.2     |\n",
      "|-------------------------------+----------------------+----------------------+\n",
      "| GPU  Name        Persistence-M| Bus-Id        Disp.A | Volatile Uncorr. ECC |\n",
      "| Fan  Temp  Perf  Pwr:Usage/Cap|         Memory-Usage | GPU-Util  Compute M. |\n",
      "|===============================+======================+======================|\n",
      "|   0  GeForce GTX 108...  Off  | 00000000:01:00.0 Off |                  N/A |\n",
      "| 20%   34C    P8    15W / 250W |  10517MiB / 11177MiB |      0%      Default |\n",
      "+-------------------------------+----------------------+----------------------+\n",
      "|   1  GeForce GTX 108...  Off  | 00000000:02:00.0 Off |                  N/A |\n",
      "| 20%   28C    P8     7W / 250W |     10MiB / 11178MiB |      0%      Default |\n",
      "+-------------------------------+----------------------+----------------------+\n",
      "                                                                               \n",
      "+-----------------------------------------------------------------------------+\n",
      "| Processes:                                                       GPU Memory |\n",
      "|  GPU       PID   Type   Process name                             Usage      |\n",
      "|=============================================================================|\n",
      "+-----------------------------------------------------------------------------+\n"
     ]
    }
   ],
   "source": [
    "!nvidia-smi"
   ]
  },
  {
   "cell_type": "code",
   "execution_count": 20,
   "id": "d712ea4b-e2d3-45bc-ac56-5a13d80488fd",
   "metadata": {},
   "outputs": [
    {
     "name": "stdout",
     "output_type": "stream",
     "text": [
      "COMET ERROR: Failed to set run source code\n",
      "COMET INFO: Experiment is live on comet.ml https://www.comet.ml/rukubrakov/min-net/6361a41be3a1481e98a1ba2329ffabc3\n",
      "\n",
      "max tensor(1351.5034, dtype=torch.float64)\n",
      "min tensor(-65.7642, dtype=torch.float64)\n",
      "max tensor(1580.2294, dtype=torch.float64)\n",
      "min tensor(-55.4755, dtype=torch.float64)\n",
      "max tensor(600.3647, dtype=torch.float64)\n",
      "min tensor(-16.4928, dtype=torch.float64)\n",
      "max tensor(634.6821, dtype=torch.float64)\n",
      "min tensor(-32.2860, dtype=torch.float64)\n",
      "max tensor(465.8056, dtype=torch.float64)\n",
      "min tensor(-27.3924, dtype=torch.float64)\n",
      "max tensor(730.1659, dtype=torch.float64)\n",
      "min tensor(-14.6054, dtype=torch.float64)\n",
      "max tensor(652.6447, dtype=torch.float64)\n",
      "min tensor(-24.7709, dtype=torch.float64)\n",
      "max tensor(1895.8531, dtype=torch.float64)\n",
      "min tensor(-35.4809, dtype=torch.float64)\n",
      "max tensor(851.7127, dtype=torch.float64)\n",
      "min tensor(-26.4823, dtype=torch.float64)\n",
      "max tensor(2068.8513, dtype=torch.float64)\n",
      "min tensor(-36.5104, dtype=torch.float64)\n",
      "max tensor(2549.7014, dtype=torch.float64)\n",
      "min tensor(-61.9672, dtype=torch.float64)\n",
      "max tensor(618.0295, dtype=torch.float64)\n",
      "min tensor(-25.6886, dtype=torch.float64)\n",
      "max tensor(543.3918, dtype=torch.float64)\n",
      "min tensor(-23.7070, dtype=torch.float64)\n",
      "max tensor(639.8329, dtype=torch.float64)\n",
      "min tensor(-23.3738, dtype=torch.float64)\n",
      "max tensor(568.0672, dtype=torch.float64)\n",
      "min tensor(-33.2591, dtype=torch.float64)\n",
      "max tensor(736.1649, dtype=torch.float64)\n",
      "min tensor(-22.9518, dtype=torch.float64)\n",
      "max tensor(791.6493, dtype=torch.float64)\n",
      "min tensor(-20.2299, dtype=torch.float64)\n",
      "max tensor(593.6968, dtype=torch.float64)\n",
      "min tensor(-14.4539, dtype=torch.float64)\n",
      "max tensor(1382.9070, dtype=torch.float64)\n",
      "min tensor(-51.3469, dtype=torch.float64)\n",
      "max tensor(609.3749, dtype=torch.float64)\n",
      "min tensor(-16.8675, dtype=torch.float64)\n",
      "max tensor(1279.1757, dtype=torch.float64)\n",
      "min tensor(-14.3864, dtype=torch.float64)\n",
      "max tensor(1665.4747, dtype=torch.float64)\n",
      "min tensor(-13.1617, dtype=torch.float64)\n",
      "max tensor(1500.3114, dtype=torch.float64)\n",
      "min tensor(-48.4344, dtype=torch.float64)\n",
      "max tensor(968.6690, dtype=torch.float64)\n",
      "min tensor(-26.6348, dtype=torch.float64)\n",
      "max tensor(847.5755, dtype=torch.float64)\n",
      "min tensor(-39.2281, dtype=torch.float64)\n",
      "max tensor(643.3680, dtype=torch.float64)\n",
      "min tensor(-37.0639, dtype=torch.float64)\n",
      "max tensor(572.3232, dtype=torch.float64)\n",
      "min tensor(-30.5882, dtype=torch.float64)\n",
      "max tensor(409.9540, dtype=torch.float64)\n",
      "min tensor(-11.6618, dtype=torch.float64)\n",
      "max tensor(2591.3975, dtype=torch.float64)\n",
      "min tensor(-89.8999, dtype=torch.float64)\n",
      "max tensor(615.7932, dtype=torch.float64)\n",
      "min tensor(-18.2934, dtype=torch.float64)\n",
      "max tensor(2661.6306, dtype=torch.float64)\n",
      "min tensor(-156.3651, dtype=torch.float64)\n",
      "max tensor(1500.7235, dtype=torch.float64)\n",
      "min tensor(-10.4263, dtype=torch.float64)\n",
      "max tensor(718.5198, dtype=torch.float64)\n",
      "min tensor(-29.2657, dtype=torch.float64)\n",
      "max tensor(2029.2319, dtype=torch.float64)\n",
      "min tensor(-53.7164, dtype=torch.float64)\n",
      "max tensor(2162.0005, dtype=torch.float64)\n",
      "min tensor(-72.4402, dtype=torch.float64)\n",
      "max tensor(1071.9708, dtype=torch.float64)\n",
      "min tensor(-25.9760, dtype=torch.float64)\n",
      "max tensor(545.1161, dtype=torch.float64)\n",
      "min tensor(-17.0355, dtype=torch.float64)\n",
      "max tensor(706.8187, dtype=torch.float64)\n",
      "min tensor(-48.0469, dtype=torch.float64)\n",
      "max tensor(657.7398, dtype=torch.float64)\n",
      "min tensor(-23.9696, dtype=torch.float64)\n",
      "max tensor(555.1846, dtype=torch.float64)\n",
      "min tensor(-24.9639, dtype=torch.float64)\n",
      "max tensor(3548.5015, dtype=torch.float64)\n",
      "min tensor(-42.3211, dtype=torch.float64)\n",
      "max tensor(765.5129, dtype=torch.float64)\n",
      "min tensor(-18.5306, dtype=torch.float64)\n",
      "max tensor(3215.7041, dtype=torch.float64)\n",
      "min tensor(-34.0122, dtype=torch.float64)\n",
      "max tensor(1021.2791, dtype=torch.float64)\n",
      "min tensor(-23.8315, dtype=torch.float64)\n",
      "max tensor(900.1259, dtype=torch.float64)\n",
      "min tensor(-36.2077, dtype=torch.float64)\n",
      "max tensor(1309.8503, dtype=torch.float64)\n",
      "min tensor(-38.8243, dtype=torch.float64)\n",
      "max tensor(554.6370, dtype=torch.float64)\n",
      "min tensor(-35.3536, dtype=torch.float64)\n",
      "max tensor(2231.3904, dtype=torch.float64)\n",
      "min tensor(-128.2677, dtype=torch.float64)\n",
      "max tensor(1474.7021, dtype=torch.float64)\n",
      "min tensor(-19.6202, dtype=torch.float64)\n",
      "max tensor(2337.6755, dtype=torch.float64)\n",
      "min tensor(-46.4240, dtype=torch.float64)\n",
      "max tensor(1416.2722, dtype=torch.float64)\n",
      "min tensor(-59.4875, dtype=torch.float64)\n",
      "max tensor(771.6899, dtype=torch.float64)\n",
      "min tensor(-29.5132, dtype=torch.float64)\n",
      "max tensor(1515.4193, dtype=torch.float64)\n",
      "min tensor(-64.1489, dtype=torch.float64)\n",
      "max tensor(2414.4805, dtype=torch.float64)\n",
      "min tensor(-53.5876, dtype=torch.float64)\n",
      "^C\n",
      "Traceback (most recent call last):\n",
      "  File \"lib/train.py\", line 268, in <module>\n",
      "    main(config, train_dict,test_dict)\n",
      "  File \"lib/train.py\", line 140, in main\n",
      "    for data in train_dataset:\n",
      "  File \"lib/train.py\", line 102, in __getitem__\n",
      "    labels = np.array([1] * point_cloud_fcd.shape[0] + [0] * without_fcd_shape)[random_idxs] # n \n",
      "KeyboardInterrupt\n",
      "COMET INFO: ---------------------------\n",
      "COMET INFO: Comet.ml Experiment Summary\n",
      "COMET INFO: ---------------------------\n",
      "COMET INFO:   Data:\n",
      "COMET INFO:     display_summary_level : 1\n",
      "COMET INFO:     url                   : https://www.comet.ml/rukubrakov/min-net/6361a41be3a1481e98a1ba2329ffabc3\n",
      "COMET INFO:   Uploads:\n",
      "COMET INFO:     environment details : 1\n",
      "COMET INFO:     filename            : 1\n",
      "COMET INFO:     installed packages  : 1\n",
      "COMET INFO:     os packages         : 1\n",
      "COMET INFO: ---------------------------\n"
     ]
    }
   ],
   "source": [
    "! python3 \"lib/train.py\" --batch_size 1 --device cuda:0 --max_epochs 400 --lr 0.01"
   ]
  },
  {
   "cell_type": "code",
   "execution_count": null,
   "id": "d1d7e519-7aa4-4ee6-b192-3d8c62292419",
   "metadata": {},
   "outputs": [],
   "source": []
  }
 ],
 "metadata": {
  "kernelspec": {
   "display_name": "Python 3",
   "language": "python",
   "name": "python3"
  },
  "language_info": {
   "codemirror_mode": {
    "name": "ipython",
    "version": 3
   },
   "file_extension": ".py",
   "mimetype": "text/x-python",
   "name": "python",
   "nbconvert_exporter": "python",
   "pygments_lexer": "ipython3",
   "version": "3.6.9"
  }
 },
 "nbformat": 4,
 "nbformat_minor": 5
}
